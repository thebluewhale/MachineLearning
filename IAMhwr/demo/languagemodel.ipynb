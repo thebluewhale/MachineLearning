{
 "cells": [
  {
   "cell_type": "code",
   "execution_count": 9,
   "metadata": {},
   "outputs": [],
   "source": [
    "from hwr.lm.generate_lm import update_counter\n",
    "from hwr.lm.lm import KneserNeyBackoff, KneserNeyInterpolated, MLE, StupidBackoff\n",
    "from nltk.lm import NgramCounter, Vocabulary\n",
    "from nltk.util import everygrams\n",
    "from hwr.constants import DATA"
   ]
  },
  {
   "cell_type": "code",
   "execution_count": 10,
   "metadata": {},
   "outputs": [
    {
     "data": {
      "text/plain": [
       "[('d',), ('o',), ('g',), ('d', 'o'), ('o', 'g'), ('d', 'o', 'g')]"
      ]
     },
     "execution_count": 10,
     "metadata": {},
     "output_type": "execute_result"
    }
   ],
   "source": [
    "# Create a 3 gram KN smoothed stupid back off model\n",
    "# with only the word 'dog'\n",
    "counter = NgramCounter()\n",
    "test_text = 'dog'\n",
    "everygram = list(everygrams(test_text, max_len=3))\n",
    "counter = NgramCounter()\n",
    "counter.update([everygram])\n",
    "everygram"
   ]
  },
  {
   "cell_type": "code",
   "execution_count": 11,
   "metadata": {},
   "outputs": [],
   "source": [
    "s = 'helloworld'\n",
    "w = '1'"
   ]
  },
  {
   "cell_type": "code",
   "execution_count": 12,
   "metadata": {},
   "outputs": [],
   "source": [
    "knbo = KneserNeyBackoff(3, backoff=0.5, counter=counter, vocabulary=Vocabulary(DATA.CHARS))\n",
    "kn = KneserNeyInterpolated(3, counter=counter, vocabulary=Vocabulary(DATA.CHARS))\n",
    "mle = MLE(3, counter=counter, vocabulary=Vocabulary(DATA.CHARS))\n",
    "bo = StupidBackoff(3, backoff=0.5, counter=counter, vocabulary=Vocabulary(DATA.CHARS))\n",
    "\n",
    "lms = [knbo, kn, mle, bo]"
   ]
  },
  {
   "cell_type": "code",
   "execution_count": 14,
   "metadata": {},
   "outputs": [
    {
     "name": "stdout",
     "output_type": "stream",
     "text": [
      "KneserNeyBackoff\n",
      "0.012048192771084338 0.012048192771084338 0.012048192771084338 0.012048192771084338\n",
      "\n",
      "KneserNeyInterpolated\n",
      "0.012048192771084338 0.012048192771084338 0.012048192771084338 0.012048192771084338\n",
      "\n",
      "MLE\n",
      "0.3333333333333333 0.3333333333333333 0.3333333333333333 0.0\n",
      "\n",
      "StupidBackoff\n",
      "0.3333333333333333 0.3333333333333333 0.3333333333333333 0.0\n",
      "\n"
     ]
    }
   ],
   "source": [
    "for lm in lms:\n",
    "    # unigram scores are same for KN smoothing\n",
    "    print(type(lm).__name__)\n",
    "    print(lm.score('g'), lm.score('d'), lm.score('o'), lm.score('k'))\n",
    "    print()"
   ]
  },
  {
   "cell_type": "code",
   "execution_count": 55,
   "metadata": {},
   "outputs": [
    {
     "name": "stdout",
     "output_type": "stream",
     "text": [
      "KneserNeyBackoff\n",
      "0.9901204819277108 0.9012048192771085\n",
      "\n",
      "KneserNeyInterpolated\n",
      "0.9901204819277108 0.9012048192771085\n",
      "\n",
      "MLE\n",
      "1.0 1.0\n",
      "\n",
      "StupidBackoff\n",
      "1.0 1.0\n",
      "\n"
     ]
    }
   ],
   "source": [
    "for lm in lms:\n",
    "    # P(g|do), P(g|o)\n",
    "    p_g_do = lm.score('g', ['d','o'])\n",
    "    p_g_o = lm.score('g', ['o'])\n",
    "    print(type(lm).__name__)  \n",
    "    print(p_g_do, p_g_o)\n",
    "    print()"
   ]
  },
  {
   "cell_type": "code",
   "execution_count": 56,
   "metadata": {},
   "outputs": [
    {
     "name": "stdout",
     "output_type": "stream",
     "text": [
      "KneserNeyBackoff\n",
      "0.45060240963855425 0.0030120481927710845\n",
      "\n",
      "KneserNeyInterpolated\n",
      "0 0\n",
      "\n",
      "MLE\n",
      "0 0\n",
      "\n",
      "StupidBackoff\n",
      "0.5 0.08333333333333333\n",
      "\n"
     ]
    }
   ],
   "source": [
    "for lm in lms:\n",
    "    #\"no occurance of \"fog\", so by stupid backoff\n",
    "    # P(g|fo) = 0.5 * P(g|o)\n",
    "    # both \"bag\" and \"ag\" has no occurence,\n",
    "    # P(g|ba) = 0.5 ^ 2 * P(g)\n",
    "    p_g_fo = lm.score('g', ['f','o'])\n",
    "    p_g_ba = lm.score('g', ['b','a'])\n",
    "    p_g_fo, p_g_ba\n",
    "    print(type(lm).__name__)\n",
    "    print(p_g_fo, p_g_ba)\n",
    "    print()"
   ]
  },
  {
   "cell_type": "code",
   "execution_count": 92,
   "metadata": {},
   "outputs": [
    {
     "name": "stderr",
     "output_type": "stream",
     "text": [
      " 33%|███▎      | 3/9 [00:00<00:00, 19.50it/s]"
     ]
    },
    {
     "name": "stdout",
     "output_type": "stream",
     "text": [
      "Updating counter with file:\n",
      "../data/1blm/corpus_example.txt\n",
      "Updating ngrams:\n"
     ]
    },
    {
     "name": "stderr",
     "output_type": "stream",
     "text": [
      "100%|██████████| 9/9 [00:00<00:00,  7.26it/s]\n"
     ]
    }
   ],
   "source": [
    "# update counter to 9 gram with the example text\n",
    "counter = NgramCounter()\n",
    "update_counter(counter, 9, '../data/1blm/corpus_example.txt')\n",
    "knbo = KneserNeyBackoff(9, backoff=0.5, counter=counter, vocabulary=Vocabulary(DATA.CHARS))\n",
    "kn = KneserNeyInterpolated(9, counter=counter, vocabulary=Vocabulary(DATA.CHARS))\n",
    "mle = MLE(9, counter=counter, vocabulary=Vocabulary(DATA.CHARS))\n",
    "bo = StupidBackoff(9, backoff=0.5, counter=counter, vocabulary=Vocabulary(DATA.CHARS))\n",
    "lms = [knbo, kn, mle, bo]"
   ]
  },
  {
   "cell_type": "code",
   "execution_count": 94,
   "metadata": {},
   "outputs": [
    {
     "name": "stdout",
     "output_type": "stream",
     "text": [
      "KneserNeyBackoff\n",
      "0.7029019364108138 0.0003268392719815432 0.23897932154148507\n",
      "\n",
      "KneserNeyInterpolated\n",
      "0.7029019364108138 0 0\n",
      "\n",
      "MLE\n",
      "0.7022696929238985 0.0 0.0\n",
      "\n",
      "StupidBackoff\n",
      "0.7022696929238985 0.0003546099290780142 0.23900709219858157\n",
      "\n"
     ]
    }
   ],
   "source": [
    "#P(e|th) and P(k|th) and P(e|ph)\n",
    "for lm in lms:\n",
    "    print(type(lm).__name__) \n",
    "    print(lm.score('e', list('th')), lm.score('k', list('th')), lm.score('e', list('xh')))\n",
    "    print()"
   ]
  }
 ],
 "metadata": {
  "kernelspec": {
   "display_name": "tf_gpu",
   "language": "python",
   "name": "tf_gpu"
  },
  "language_info": {
   "codemirror_mode": {
    "name": "ipython",
    "version": 3
   },
   "file_extension": ".py",
   "mimetype": "text/x-python",
   "name": "python",
   "nbconvert_exporter": "python",
   "pygments_lexer": "ipython3",
   "version": "3.6.8"
  },
  "varInspector": {
   "cols": {
    "lenName": 16,
    "lenType": 16,
    "lenVar": 40
   },
   "kernels_config": {
    "python": {
     "delete_cmd_postfix": "",
     "delete_cmd_prefix": "del ",
     "library": "var_list.py",
     "varRefreshCmd": "print(var_dic_list())"
    },
    "r": {
     "delete_cmd_postfix": ") ",
     "delete_cmd_prefix": "rm(",
     "library": "var_list.r",
     "varRefreshCmd": "cat(var_dic_list()) "
    }
   },
   "position": {
    "height": "385px",
    "left": "540px",
    "right": "20px",
    "top": "120px",
    "width": "350px"
   },
   "types_to_exclude": [
    "module",
    "function",
    "builtin_function_or_method",
    "instance",
    "_Feature"
   ],
   "window_display": true
  }
 },
 "nbformat": 4,
 "nbformat_minor": 2
}
