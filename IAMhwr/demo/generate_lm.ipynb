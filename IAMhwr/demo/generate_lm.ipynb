{
 "cells": [
  {
   "cell_type": "code",
   "execution_count": 1,
   "metadata": {},
   "outputs": [],
   "source": [
    "from hwr.lm.generate_lm import *\n",
    "from hwr.lm.lm import MLE, StupidBackoff, KneserNeyInterpolated, KneserNeyBackoff\n",
    "from nltk.lm import NgramCounter, Vocabulary\n",
    "from nltk.util import everygrams\n",
    "from hwr.constants import PATH, DATA, SPLIT\n",
    "import dill as pickle"
   ]
  },
  {
   "cell_type": "code",
   "execution_count": 2,
   "metadata": {},
   "outputs": [],
   "source": [
    "# These should be command line argument\n",
    "ngram = 7\n",
    "to_file = 10\n",
    "fname = 'lm_7gram_counter.pkl'"
   ]
  },
  {
   "cell_type": "code",
   "execution_count": null,
   "metadata": {
    "scrolled": true
   },
   "outputs": [
    {
     "name": "stdout",
     "output_type": "stream",
     "text": [
      "file 1\n",
      "Updating counter with file:\n",
      "/home/jasper/Desktop/fyp/HWR/hwr/../data/1blm/training-monolingual.tokenized.shuffled/news.en-00001-of-00100\n"
     ]
    },
    {
     "name": "stderr",
     "output_type": "stream",
     "text": [
      "\r",
      "  0%|          | 0/9 [00:00<?, ?it/s]"
     ]
    },
    {
     "name": "stdout",
     "output_type": "stream",
     "text": [
      "Updating ngrams:\n"
     ]
    },
    {
     "name": "stderr",
     "output_type": "stream",
     "text": [
      " 89%|████████▉ | 8/9 [08:54<01:14, 74.56s/it]"
     ]
    }
   ],
   "source": [
    "# update ngram counter\n",
    "counter = NgramCounter()\n",
    "for p in range(0, to_file):\n",
    "    fn = p + 1\n",
    "    print(\"file {}\".format(fn))\n",
    "    fnum = \"0000\" + str(fn) if fn < 10 else \"000\" + str(fn)\n",
    "    fn = PATH.BASE_DIR + '../data/1blm/training-monolingual.tokenized.shuffled/news.en-' + fnum + '-of-00100'\n",
    "    counter = update_counter(counter, ngram, fn)"
   ]
  },
  {
   "cell_type": "code",
   "execution_count": null,
   "metadata": {},
   "outputs": [],
   "source": [
    "with open(PATH.LM_DATA_DIR + \"7gram-p10.pkl\", 'rb') as fin:\n",
    "    counter = pickle.load(fin)"
   ]
  },
  {
   "cell_type": "code",
   "execution_count": 3,
   "metadata": {},
   "outputs": [
    {
     "data": {
      "text/plain": [
       "2898680645"
      ]
     },
     "execution_count": 3,
     "metadata": {},
     "output_type": "execute_result"
    }
   ],
   "source": [
    "# number of samples in counter\n",
    "#      N      ngram   file    prun  cond      unique ngrams    pickle size\n",
    "# 2931575612    7      10      0    1853306      \n",
    "# 2898680645    7      10      10   491499       3558236        66.8\n",
    "# 2815154577    7      10      100  187818        993832        21.0\n",
    "# 1674934964    5      10      0    37173   \n",
    "# 1674359465    5      10      10   20626         596377        7.4\n",
    "# 1671408906    5      10      100  12915         235057        3.3\n",
    "counter.N() "
   ]
  },
  {
   "cell_type": "code",
   "execution_count": 4,
   "metadata": {},
   "outputs": [],
   "source": [
    "counter5 = get_subset_from_counter(counter, 5)"
   ]
  },
  {
   "cell_type": "code",
   "execution_count": 6,
   "metadata": {},
   "outputs": [
    {
     "data": {
      "text/plain": [
       "3558236.0"
      ]
     },
     "execution_count": 6,
     "metadata": {},
     "output_type": "execute_result"
    }
   ],
   "source": [
    "get_unique_ngram_count(counter, 7)"
   ]
  },
  {
   "cell_type": "code",
   "execution_count": 7,
   "metadata": {},
   "outputs": [],
   "source": [
    "# prune based on absolute value\n",
    "counter = prune_counter(counter, ngram, threshold=100)"
   ]
  },
  {
   "cell_type": "code",
   "execution_count": 8,
   "metadata": {},
   "outputs": [
    {
     "data": {
      "text/plain": [
       "993832.0"
      ]
     },
     "execution_count": 8,
     "metadata": {},
     "output_type": "execute_result"
    }
   ],
   "source": [
    "get_unique_ngram_count(counter, 7)"
   ]
  },
  {
   "cell_type": "code",
   "execution_count": 79,
   "metadata": {},
   "outputs": [],
   "source": [
    "# Dump as pickle\n",
    "with open(\"5gram-p10.pkl\", 'wb') as fout:\n",
    "    pickle.dump(counter5, fout, protocol=2)"
   ]
  },
  {
   "cell_type": "code",
   "execution_count": 2,
   "metadata": {},
   "outputs": [],
   "source": []
  }
 ],
 "metadata": {
  "kernelspec": {
   "display_name": "tf_gpu",
   "language": "python",
   "name": "tf_gpu"
  },
  "language_info": {
   "codemirror_mode": {
    "name": "ipython",
    "version": 3
   },
   "file_extension": ".py",
   "mimetype": "text/x-python",
   "name": "python",
   "nbconvert_exporter": "python",
   "pygments_lexer": "ipython3",
   "version": "3.6.8"
  },
  "varInspector": {
   "cols": {
    "lenName": 16,
    "lenType": 16,
    "lenVar": 40
   },
   "kernels_config": {
    "python": {
     "delete_cmd_postfix": "",
     "delete_cmd_prefix": "del ",
     "library": "var_list.py",
     "varRefreshCmd": "print(var_dic_list())"
    },
    "r": {
     "delete_cmd_postfix": ") ",
     "delete_cmd_prefix": "rm(",
     "library": "var_list.r",
     "varRefreshCmd": "cat(var_dic_list()) "
    }
   },
   "position": {
    "height": "413.722px",
    "left": "1189.18px",
    "right": "20px",
    "top": "243.994px",
    "width": "489.162px"
   },
   "types_to_exclude": [
    "module",
    "function",
    "builtin_function_or_method",
    "instance",
    "_Feature"
   ],
   "window_display": false
  }
 },
 "nbformat": 4,
 "nbformat_minor": 2
}
