{
 "cells": [
  {
   "cell_type": "code",
   "execution_count": 1,
   "metadata": {},
   "outputs": [],
   "source": [
    "from hwr.data.reader import IAMReader\n",
    "from hwr.constants import SPLIT, PREPROCESS"
   ]
  },
  {
   "cell_type": "code",
   "execution_count": 12,
   "metadata": {},
   "outputs": [
    {
     "data": {
      "text/plain": [
       "<IAMReader of split=\"trainset.txt\">"
      ]
     },
     "execution_count": 12,
     "metadata": {},
     "output_type": "execute_result"
    }
   ],
   "source": [
    "# Initialize reader with a given split\n",
    "reader_train = IAMReader(SPLIT.TRAIN)\n",
    "reader_all = IAMReader(SPLIT.ALL)\n",
    "reader_train"
   ]
  },
  {
   "cell_type": "code",
   "execution_count": 3,
   "metadata": {},
   "outputs": [
    {
     "data": {
      "text/plain": [
       "(5361, 12171)"
      ]
     },
     "execution_count": 3,
     "metadata": {},
     "output_type": "execute_result"
    }
   ],
   "source": [
    "# Get samples from reader\n",
    "train_samples = reader_train.get_samples()\n",
    "all_samples = reader_all.get_samples()\n",
    "len(train_samples), len(all_samples)"
   ]
  },
  {
   "cell_type": "code",
   "execution_count": 8,
   "metadata": {},
   "outputs": [
    {
     "data": {
      "text/plain": [
       "<Sample of name=a01-001w-01>"
      ]
     },
     "execution_count": 8,
     "metadata": {},
     "output_type": "execute_result"
    }
   ],
   "source": [
    "# sample is wrapped in a class\n",
    "sample = train_samples[0]\n",
    "sample"
   ]
  },
  {
   "cell_type": "code",
   "execution_count": 13,
   "metadata": {},
   "outputs": [
    {
     "data": {
      "image/png": "[encoded data removed]",
      "text/plain": [
       "<Figure size 720x720 with 1 Axes>"
      ]
     },
     "metadata": {
      "needs_background": "light"
     },
     "output_type": "display_data"
    }
   ],
   "source": [
    "# visualize sample\n",
    "sample.visualize()"
   ]
  },
  {
   "cell_type": "code",
   "execution_count": 14,
   "metadata": {
    "scrolled": true
   },
   "outputs": [
    {
     "data": {
      "text/plain": [
       "('/home/jasper/Desktop/fyp/HWR/hwr/../data/iamon/lineStrokes(on)/data/a01/a01-001/a01-001w-01.xml',\n",
       " <PointSet w=5621 h=648 points_len=590>,\n",
       " 'By Trevor Williams . A move to ')"
      ]
     },
     "execution_count": 14,
     "metadata": {},
     "output_type": "execute_result"
    }
   ],
   "source": [
    "# samples attributes, pointset is derived from the xml file\n",
    "sample.xml_path, sample.pointset, sample.get_ground_truth_text()"
   ]
  },
  {
   "cell_type": "code",
   "execution_count": 15,
   "metadata": {},
   "outputs": [
    {
     "data": {
      "text/plain": [
       "(array([[-2.49708771e+01, -2.11171758e+00,  5.45721502e-02,\n",
       "          2.26284976e-01,  1.00000000e+00,  0.00000000e+00],\n",
       "        [-2.49163050e+01, -1.88543260e+00,  5.45721502e-02,\n",
       "          2.26284976e-01,  1.00000000e+00,  0.00000000e+00],\n",
       "        [-2.48617328e+01, -1.65914762e+00,  5.45721502e-02,\n",
       "          2.26284976e-01,  1.00000000e+00,  0.00000000e+00],\n",
       "        ...,\n",
       "        [ 2.71303422e+01, -4.96609488e-01, -3.68090784e-01,\n",
       "         -3.75389779e-02,  1.00000000e+00,  0.00000000e+00],\n",
       "        [ 2.67622514e+01, -5.34148466e-01, -3.68090784e-01,\n",
       "         -3.75389779e-02,  1.00000000e+00,  0.00000000e+00],\n",
       "        [ 2.63941606e+01, -5.71687444e-01, -1.85017042e-01,\n",
       "         -1.88685806e-02,  0.00000000e+00,  1.00000000e+00]]), (348, 6))"
      ]
     },
     "execution_count": 15,
     "metadata": {},
     "output_type": "execute_result"
    }
   ],
   "source": [
    "# Get features given a preprocess scheme. Dimension: (timestep, number_of_features)\n",
    "features = sample.generate_features(preprocess=PREPROCESS.SCHEME6)\n",
    "features, features.shape"
   ]
  }
 ],
 "metadata": {
  "kernelspec": {
   "display_name": "tf_gpu",
   "language": "python",
   "name": "tf_gpu"
  },
  "varInspector": {
   "cols": {
    "lenName": 16,
    "lenType": 16,
    "lenVar": 40
   },
   "kernels_config": {
    "python": {
     "delete_cmd_postfix": "",
     "delete_cmd_prefix": "del ",
     "library": "var_list.py",
     "varRefreshCmd": "print(var_dic_list())"
    },
    "r": {
     "delete_cmd_postfix": ") ",
     "delete_cmd_prefix": "rm(",
     "library": "var_list.r",
     "varRefreshCmd": "cat(var_dic_list()) "
    }
   },
   "types_to_exclude": [
    "module",
    "function",
    "builtin_function_or_method",
    "instance",
    "_Feature"
   ],
   "window_display": false
  }
 },
 "nbformat": 4,
 "nbformat_minor": 2
}
